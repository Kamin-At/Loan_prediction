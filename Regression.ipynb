{
 "cells": [
  {
   "cell_type": "code",
   "execution_count": 1,
   "metadata": {},
   "outputs": [],
   "source": [
    "from sklearn.svm import SVC\n",
    "import pandas as pd\n",
    "import numpy as np\n",
    "from sklearn.preprocessing import StandardScaler\n",
    "from sklearn.tree import DecisionTreeClassifier\n",
    "from sklearn.ensemble import RandomForestClassifier\n",
    "from sklearn.neural_network import MLPClassifier\n",
    "from sklearn.decomposition import PCA\n",
    "\n",
    "import matplotlib.pyplot as plt"
   ]
  },
  {
   "cell_type": "code",
   "execution_count": 2,
   "metadata": {},
   "outputs": [
    {
     "name": "stdout",
     "output_type": "stream",
     "text": [
      "(981, 16)\n"
     ]
    },
    {
     "data": {
      "text/html": [
       "<div>\n",
       "<style scoped>\n",
       "    .dataframe tbody tr th:only-of-type {\n",
       "        vertical-align: middle;\n",
       "    }\n",
       "\n",
       "    .dataframe tbody tr th {\n",
       "        vertical-align: top;\n",
       "    }\n",
       "\n",
       "    .dataframe thead th {\n",
       "        text-align: right;\n",
       "    }\n",
       "</style>\n",
       "<table border=\"1\" class=\"dataframe\">\n",
       "  <thead>\n",
       "    <tr style=\"text-align: right;\">\n",
       "      <th></th>\n",
       "      <th>Gender</th>\n",
       "      <th>Married</th>\n",
       "      <th>Education</th>\n",
       "      <th>Self_Employed</th>\n",
       "      <th>ApplicantIncome</th>\n",
       "      <th>CoapplicantIncome</th>\n",
       "      <th>LoanAmount</th>\n",
       "      <th>Loan_Amount_Term</th>\n",
       "      <th>Credit_History</th>\n",
       "      <th>Dependents_0</th>\n",
       "      <th>Dependents_1</th>\n",
       "      <th>Dependents_2</th>\n",
       "      <th>Dependents_3+</th>\n",
       "      <th>Property_Area_Rural</th>\n",
       "      <th>Property_Area_Semiurban</th>\n",
       "      <th>Property_Area_Urban</th>\n",
       "    </tr>\n",
       "  </thead>\n",
       "  <tbody>\n",
       "    <tr>\n",
       "      <td>count</td>\n",
       "      <td>981.000000</td>\n",
       "      <td>981.000000</td>\n",
       "      <td>981.000000</td>\n",
       "      <td>981.000000</td>\n",
       "      <td>981.000000</td>\n",
       "      <td>981.000000</td>\n",
       "      <td>981.000000</td>\n",
       "      <td>981.000000</td>\n",
       "      <td>981.000000</td>\n",
       "      <td>981.000000</td>\n",
       "      <td>981.000000</td>\n",
       "      <td>981.000000</td>\n",
       "      <td>981.000000</td>\n",
       "      <td>981.000000</td>\n",
       "      <td>981.000000</td>\n",
       "      <td>981.000000</td>\n",
       "    </tr>\n",
       "    <tr>\n",
       "      <td>mean</td>\n",
       "      <td>0.209990</td>\n",
       "      <td>0.645260</td>\n",
       "      <td>0.777778</td>\n",
       "      <td>0.121305</td>\n",
       "      <td>5179.795107</td>\n",
       "      <td>1601.916330</td>\n",
       "      <td>142.511488</td>\n",
       "      <td>342.201835</td>\n",
       "      <td>0.849134</td>\n",
       "      <td>0.581040</td>\n",
       "      <td>0.163099</td>\n",
       "      <td>0.163099</td>\n",
       "      <td>0.092762</td>\n",
       "      <td>0.295617</td>\n",
       "      <td>0.355759</td>\n",
       "      <td>0.348624</td>\n",
       "    </tr>\n",
       "    <tr>\n",
       "      <td>std</td>\n",
       "      <td>0.407509</td>\n",
       "      <td>0.478679</td>\n",
       "      <td>0.415952</td>\n",
       "      <td>0.326648</td>\n",
       "      <td>5695.104533</td>\n",
       "      <td>2718.772806</td>\n",
       "      <td>76.347770</td>\n",
       "      <td>64.432886</td>\n",
       "      <td>0.358101</td>\n",
       "      <td>0.493641</td>\n",
       "      <td>0.369644</td>\n",
       "      <td>0.369644</td>\n",
       "      <td>0.290247</td>\n",
       "      <td>0.456552</td>\n",
       "      <td>0.478987</td>\n",
       "      <td>0.476778</td>\n",
       "    </tr>\n",
       "    <tr>\n",
       "      <td>min</td>\n",
       "      <td>0.000000</td>\n",
       "      <td>0.000000</td>\n",
       "      <td>0.000000</td>\n",
       "      <td>0.000000</td>\n",
       "      <td>0.000000</td>\n",
       "      <td>0.000000</td>\n",
       "      <td>9.000000</td>\n",
       "      <td>6.000000</td>\n",
       "      <td>0.000000</td>\n",
       "      <td>0.000000</td>\n",
       "      <td>0.000000</td>\n",
       "      <td>0.000000</td>\n",
       "      <td>0.000000</td>\n",
       "      <td>0.000000</td>\n",
       "      <td>0.000000</td>\n",
       "      <td>0.000000</td>\n",
       "    </tr>\n",
       "    <tr>\n",
       "      <td>25%</td>\n",
       "      <td>0.000000</td>\n",
       "      <td>0.000000</td>\n",
       "      <td>1.000000</td>\n",
       "      <td>0.000000</td>\n",
       "      <td>2875.000000</td>\n",
       "      <td>0.000000</td>\n",
       "      <td>101.000000</td>\n",
       "      <td>360.000000</td>\n",
       "      <td>1.000000</td>\n",
       "      <td>0.000000</td>\n",
       "      <td>0.000000</td>\n",
       "      <td>0.000000</td>\n",
       "      <td>0.000000</td>\n",
       "      <td>0.000000</td>\n",
       "      <td>0.000000</td>\n",
       "      <td>0.000000</td>\n",
       "    </tr>\n",
       "    <tr>\n",
       "      <td>50%</td>\n",
       "      <td>0.000000</td>\n",
       "      <td>1.000000</td>\n",
       "      <td>1.000000</td>\n",
       "      <td>0.000000</td>\n",
       "      <td>3800.000000</td>\n",
       "      <td>1110.000000</td>\n",
       "      <td>128.000000</td>\n",
       "      <td>360.000000</td>\n",
       "      <td>1.000000</td>\n",
       "      <td>1.000000</td>\n",
       "      <td>0.000000</td>\n",
       "      <td>0.000000</td>\n",
       "      <td>0.000000</td>\n",
       "      <td>0.000000</td>\n",
       "      <td>0.000000</td>\n",
       "      <td>0.000000</td>\n",
       "    </tr>\n",
       "    <tr>\n",
       "      <td>75%</td>\n",
       "      <td>0.000000</td>\n",
       "      <td>1.000000</td>\n",
       "      <td>1.000000</td>\n",
       "      <td>0.000000</td>\n",
       "      <td>5516.000000</td>\n",
       "      <td>2365.000000</td>\n",
       "      <td>160.000000</td>\n",
       "      <td>360.000000</td>\n",
       "      <td>1.000000</td>\n",
       "      <td>1.000000</td>\n",
       "      <td>0.000000</td>\n",
       "      <td>0.000000</td>\n",
       "      <td>0.000000</td>\n",
       "      <td>1.000000</td>\n",
       "      <td>1.000000</td>\n",
       "      <td>1.000000</td>\n",
       "    </tr>\n",
       "    <tr>\n",
       "      <td>max</td>\n",
       "      <td>1.000000</td>\n",
       "      <td>1.000000</td>\n",
       "      <td>1.000000</td>\n",
       "      <td>1.000000</td>\n",
       "      <td>81000.000000</td>\n",
       "      <td>41667.000000</td>\n",
       "      <td>700.000000</td>\n",
       "      <td>480.000000</td>\n",
       "      <td>1.000000</td>\n",
       "      <td>1.000000</td>\n",
       "      <td>1.000000</td>\n",
       "      <td>1.000000</td>\n",
       "      <td>1.000000</td>\n",
       "      <td>1.000000</td>\n",
       "      <td>1.000000</td>\n",
       "      <td>1.000000</td>\n",
       "    </tr>\n",
       "  </tbody>\n",
       "</table>\n",
       "</div>"
      ],
      "text/plain": [
       "           Gender     Married   Education  Self_Employed  ApplicantIncome  \\\n",
       "count  981.000000  981.000000  981.000000     981.000000       981.000000   \n",
       "mean     0.209990    0.645260    0.777778       0.121305      5179.795107   \n",
       "std      0.407509    0.478679    0.415952       0.326648      5695.104533   \n",
       "min      0.000000    0.000000    0.000000       0.000000         0.000000   \n",
       "25%      0.000000    0.000000    1.000000       0.000000      2875.000000   \n",
       "50%      0.000000    1.000000    1.000000       0.000000      3800.000000   \n",
       "75%      0.000000    1.000000    1.000000       0.000000      5516.000000   \n",
       "max      1.000000    1.000000    1.000000       1.000000     81000.000000   \n",
       "\n",
       "       CoapplicantIncome  LoanAmount  Loan_Amount_Term  Credit_History  \\\n",
       "count         981.000000  981.000000        981.000000      981.000000   \n",
       "mean         1601.916330  142.511488        342.201835        0.849134   \n",
       "std          2718.772806   76.347770         64.432886        0.358101   \n",
       "min             0.000000    9.000000          6.000000        0.000000   \n",
       "25%             0.000000  101.000000        360.000000        1.000000   \n",
       "50%          1110.000000  128.000000        360.000000        1.000000   \n",
       "75%          2365.000000  160.000000        360.000000        1.000000   \n",
       "max         41667.000000  700.000000        480.000000        1.000000   \n",
       "\n",
       "       Dependents_0  Dependents_1  Dependents_2  Dependents_3+  \\\n",
       "count    981.000000    981.000000    981.000000     981.000000   \n",
       "mean       0.581040      0.163099      0.163099       0.092762   \n",
       "std        0.493641      0.369644      0.369644       0.290247   \n",
       "min        0.000000      0.000000      0.000000       0.000000   \n",
       "25%        0.000000      0.000000      0.000000       0.000000   \n",
       "50%        1.000000      0.000000      0.000000       0.000000   \n",
       "75%        1.000000      0.000000      0.000000       0.000000   \n",
       "max        1.000000      1.000000      1.000000       1.000000   \n",
       "\n",
       "       Property_Area_Rural  Property_Area_Semiurban  Property_Area_Urban  \n",
       "count           981.000000               981.000000           981.000000  \n",
       "mean              0.295617                 0.355759             0.348624  \n",
       "std               0.456552                 0.478987             0.476778  \n",
       "min               0.000000                 0.000000             0.000000  \n",
       "25%               0.000000                 0.000000             0.000000  \n",
       "50%               0.000000                 0.000000             0.000000  \n",
       "75%               1.000000                 1.000000             1.000000  \n",
       "max               1.000000                 1.000000             1.000000  "
      ]
     },
     "execution_count": 2,
     "metadata": {},
     "output_type": "execute_result"
    }
   ],
   "source": [
    "Train = pd.read_csv('.\\\\data\\\\train_v1.csv', index_col =0)\n",
    "\n",
    "Label = Train['Loan_Status']\n",
    "Train = Train.drop(columns='Loan_Status')\n",
    "Test = pd.read_csv('.\\\\data\\\\test_v1.csv', index_col = 0)\n",
    "Data = pd.concat([Train, Test])\n",
    "print(Data.shape)\n",
    "Data.describe()"
   ]
  },
  {
   "cell_type": "markdown",
   "metadata": {},
   "source": [
    "# ApplicantIncome, CoapplicantIncome, LoanAmount, Loan_Amount_Term need to be nornalized"
   ]
  },
  {
   "cell_type": "code",
   "execution_count": 3,
   "metadata": {},
   "outputs": [
    {
     "name": "stdout",
     "output_type": "stream",
     "text": [
      "[[5849.      0.    142.51  360.  ]\n",
      " [4583.   1508.    128.    360.  ]\n",
      " [3000.      0.     66.    360.  ]\n",
      " ...\n",
      " [3250.   1993.    126.    360.  ]\n",
      " [5000.   2393.    158.    360.  ]\n",
      " [9200.      0.     98.    180.  ]]\n"
     ]
    }
   ],
   "source": [
    "data = Data[['ApplicantIncome', 'CoapplicantIncome', 'LoanAmount', 'Loan_Amount_Term']].values\n",
    "Data = Data.drop(columns=['ApplicantIncome', 'CoapplicantIncome', 'LoanAmount', 'Loan_Amount_Term'])\n",
    "print(data)"
   ]
  },
  {
   "cell_type": "code",
   "execution_count": 4,
   "metadata": {},
   "outputs": [
    {
     "name": "stdout",
     "output_type": "stream",
     "text": [
      "StandardScaler(copy=True, with_mean=True, with_std=True)\n"
     ]
    }
   ],
   "source": [
    "scaler = StandardScaler()\n",
    "print(scaler.fit(data))\n",
    "StandardScaler(copy=True, with_mean=True, with_std=True)\n",
    "data = scaler.transform(data)"
   ]
  },
  {
   "cell_type": "code",
   "execution_count": 5,
   "metadata": {},
   "outputs": [
    {
     "data": {
      "text/plain": [
       "Index(['LP001002', 'LP001003', 'LP001005', 'LP001006', 'LP001008', 'LP001011',\n",
       "       'LP001013', 'LP001014', 'LP001018', 'LP001020',\n",
       "       ...\n",
       "       'LP002952', 'LP002954', 'LP002962', 'LP002965', 'LP002969', 'LP002971',\n",
       "       'LP002975', 'LP002980', 'LP002986', 'LP002989'],\n",
       "      dtype='object', name='Loan_ID', length=981)"
      ]
     },
     "execution_count": 5,
     "metadata": {},
     "output_type": "execute_result"
    }
   ],
   "source": [
    "Data.index"
   ]
  },
  {
   "cell_type": "code",
   "execution_count": 6,
   "metadata": {},
   "outputs": [
    {
     "name": "stdout",
     "output_type": "stream",
     "text": [
      "(614, 16)\n",
      "(367, 16)\n"
     ]
    },
    {
     "data": {
      "text/html": [
       "<div>\n",
       "<style scoped>\n",
       "    .dataframe tbody tr th:only-of-type {\n",
       "        vertical-align: middle;\n",
       "    }\n",
       "\n",
       "    .dataframe tbody tr th {\n",
       "        vertical-align: top;\n",
       "    }\n",
       "\n",
       "    .dataframe thead th {\n",
       "        text-align: right;\n",
       "    }\n",
       "</style>\n",
       "<table border=\"1\" class=\"dataframe\">\n",
       "  <thead>\n",
       "    <tr style=\"text-align: right;\">\n",
       "      <th></th>\n",
       "      <th>Gender</th>\n",
       "      <th>Married</th>\n",
       "      <th>Education</th>\n",
       "      <th>Self_Employed</th>\n",
       "      <th>Credit_History</th>\n",
       "      <th>Dependents_0</th>\n",
       "      <th>Dependents_1</th>\n",
       "      <th>Dependents_2</th>\n",
       "      <th>Dependents_3+</th>\n",
       "      <th>Property_Area_Rural</th>\n",
       "      <th>Property_Area_Semiurban</th>\n",
       "      <th>Property_Area_Urban</th>\n",
       "      <th>ApplicantIncome</th>\n",
       "      <th>CoapplicantIncome</th>\n",
       "      <th>LoanAmount</th>\n",
       "      <th>Loan_Amount_Term</th>\n",
       "    </tr>\n",
       "    <tr>\n",
       "      <th>Loan_ID</th>\n",
       "      <th></th>\n",
       "      <th></th>\n",
       "      <th></th>\n",
       "      <th></th>\n",
       "      <th></th>\n",
       "      <th></th>\n",
       "      <th></th>\n",
       "      <th></th>\n",
       "      <th></th>\n",
       "      <th></th>\n",
       "      <th></th>\n",
       "      <th></th>\n",
       "      <th></th>\n",
       "      <th></th>\n",
       "      <th></th>\n",
       "      <th></th>\n",
       "    </tr>\n",
       "  </thead>\n",
       "  <tbody>\n",
       "    <tr>\n",
       "      <td>LP001002</td>\n",
       "      <td>0</td>\n",
       "      <td>0</td>\n",
       "      <td>1</td>\n",
       "      <td>0</td>\n",
       "      <td>1.0</td>\n",
       "      <td>1</td>\n",
       "      <td>0</td>\n",
       "      <td>0</td>\n",
       "      <td>0</td>\n",
       "      <td>0</td>\n",
       "      <td>0</td>\n",
       "      <td>1</td>\n",
       "      <td>0.117565</td>\n",
       "      <td>-0.589506</td>\n",
       "      <td>-0.000020</td>\n",
       "      <td>0.276369</td>\n",
       "    </tr>\n",
       "    <tr>\n",
       "      <td>LP001003</td>\n",
       "      <td>0</td>\n",
       "      <td>1</td>\n",
       "      <td>1</td>\n",
       "      <td>0</td>\n",
       "      <td>1.0</td>\n",
       "      <td>0</td>\n",
       "      <td>1</td>\n",
       "      <td>0</td>\n",
       "      <td>0</td>\n",
       "      <td>1</td>\n",
       "      <td>0</td>\n",
       "      <td>0</td>\n",
       "      <td>-0.104844</td>\n",
       "      <td>-0.034561</td>\n",
       "      <td>-0.190168</td>\n",
       "      <td>0.276369</td>\n",
       "    </tr>\n",
       "    <tr>\n",
       "      <td>LP001005</td>\n",
       "      <td>0</td>\n",
       "      <td>1</td>\n",
       "      <td>1</td>\n",
       "      <td>1</td>\n",
       "      <td>1.0</td>\n",
       "      <td>1</td>\n",
       "      <td>0</td>\n",
       "      <td>0</td>\n",
       "      <td>0</td>\n",
       "      <td>0</td>\n",
       "      <td>0</td>\n",
       "      <td>1</td>\n",
       "      <td>-0.382944</td>\n",
       "      <td>-0.589506</td>\n",
       "      <td>-1.002656</td>\n",
       "      <td>0.276369</td>\n",
       "    </tr>\n",
       "    <tr>\n",
       "      <td>LP001006</td>\n",
       "      <td>0</td>\n",
       "      <td>1</td>\n",
       "      <td>0</td>\n",
       "      <td>0</td>\n",
       "      <td>1.0</td>\n",
       "      <td>1</td>\n",
       "      <td>0</td>\n",
       "      <td>0</td>\n",
       "      <td>0</td>\n",
       "      <td>0</td>\n",
       "      <td>0</td>\n",
       "      <td>1</td>\n",
       "      <td>-0.456202</td>\n",
       "      <td>0.278239</td>\n",
       "      <td>-0.295005</td>\n",
       "      <td>0.276369</td>\n",
       "    </tr>\n",
       "    <tr>\n",
       "      <td>LP001008</td>\n",
       "      <td>0</td>\n",
       "      <td>0</td>\n",
       "      <td>1</td>\n",
       "      <td>0</td>\n",
       "      <td>1.0</td>\n",
       "      <td>1</td>\n",
       "      <td>0</td>\n",
       "      <td>0</td>\n",
       "      <td>0</td>\n",
       "      <td>0</td>\n",
       "      <td>0</td>\n",
       "      <td>1</td>\n",
       "      <td>0.144093</td>\n",
       "      <td>-0.589506</td>\n",
       "      <td>-0.019808</td>\n",
       "      <td>0.276369</td>\n",
       "    </tr>\n",
       "  </tbody>\n",
       "</table>\n",
       "</div>"
      ],
      "text/plain": [
       "          Gender  Married  Education  Self_Employed  Credit_History  \\\n",
       "Loan_ID                                                               \n",
       "LP001002       0        0          1              0             1.0   \n",
       "LP001003       0        1          1              0             1.0   \n",
       "LP001005       0        1          1              1             1.0   \n",
       "LP001006       0        1          0              0             1.0   \n",
       "LP001008       0        0          1              0             1.0   \n",
       "\n",
       "          Dependents_0  Dependents_1  Dependents_2  Dependents_3+  \\\n",
       "Loan_ID                                                             \n",
       "LP001002             1             0             0              0   \n",
       "LP001003             0             1             0              0   \n",
       "LP001005             1             0             0              0   \n",
       "LP001006             1             0             0              0   \n",
       "LP001008             1             0             0              0   \n",
       "\n",
       "          Property_Area_Rural  Property_Area_Semiurban  Property_Area_Urban  \\\n",
       "Loan_ID                                                                       \n",
       "LP001002                    0                        0                    1   \n",
       "LP001003                    1                        0                    0   \n",
       "LP001005                    0                        0                    1   \n",
       "LP001006                    0                        0                    1   \n",
       "LP001008                    0                        0                    1   \n",
       "\n",
       "          ApplicantIncome  CoapplicantIncome  LoanAmount  Loan_Amount_Term  \n",
       "Loan_ID                                                                     \n",
       "LP001002         0.117565          -0.589506   -0.000020          0.276369  \n",
       "LP001003        -0.104844          -0.034561   -0.190168          0.276369  \n",
       "LP001005        -0.382944          -0.589506   -1.002656          0.276369  \n",
       "LP001006        -0.456202           0.278239   -0.295005          0.276369  \n",
       "LP001008         0.144093          -0.589506   -0.019808          0.276369  "
      ]
     },
     "execution_count": 6,
     "metadata": {},
     "output_type": "execute_result"
    }
   ],
   "source": [
    "Normalizaed = pd.DataFrame(data=data, columns=['ApplicantIncome', 'CoapplicantIncome', 'LoanAmount', 'Loan_Amount_Term'], index =Data.index ,copy=True)\n",
    "Data = pd.merge(Data, Normalizaed, on='Loan_ID')\n",
    "# Data['ApplicantIncome'].values = data[:,0]\n",
    "# Data['CoapplicantIncome'].values = data[:,1]\n",
    "# Data['LoanAmount'].values = data[:,2]\n",
    "Train = Data[:Train.shape[0]]\n",
    "Test = Data[Train.shape[0]:]\n",
    "print(Train.shape)\n",
    "print(Test.shape)\n",
    "Data.head()"
   ]
  },
  {
   "cell_type": "code",
   "execution_count": 7,
   "metadata": {},
   "outputs": [],
   "source": [
    "def binary2str(col):\n",
    "    if col == 1:\n",
    "        return 'Y'\n",
    "    else:\n",
    "        return 'N'"
   ]
  },
  {
   "cell_type": "markdown",
   "metadata": {},
   "source": [
    "# PCA"
   ]
  },
  {
   "cell_type": "code",
   "execution_count": 8,
   "metadata": {},
   "outputs": [
    {
     "data": {
      "text/plain": [
       "(981, 8)"
      ]
     },
     "execution_count": 8,
     "metadata": {},
     "output_type": "execute_result"
    }
   ],
   "source": [
    "pca = PCA(n_components=0.85)\n",
    "pca.fit(Data.values)\n",
    "#plt.plot(pca.explained_variance_ratio_)\n",
    "Reduced_data = pca.transform(Data.values)\n",
    "Reduced_data.shape"
   ]
  },
  {
   "cell_type": "code",
   "execution_count": 9,
   "metadata": {},
   "outputs": [
    {
     "name": "stdout",
     "output_type": "stream",
     "text": [
      "(614, 16)\n",
      "(367, 16)\n"
     ]
    }
   ],
   "source": [
    "Train = Data[:Train.shape[0]]\n",
    "Test = Data[Train.shape[0]:]\n",
    "print(Train.shape)\n",
    "print(Test.shape)"
   ]
  },
  {
   "cell_type": "markdown",
   "metadata": {},
   "source": [
    "# SVM"
   ]
  },
  {
   "cell_type": "code",
   "execution_count": 18,
   "metadata": {},
   "outputs": [
    {
     "name": "stdout",
     "output_type": "stream",
     "text": [
      "[1 1 1 1 1 1 1 1 1 1 1 1 1 1 1 1 1 1 1 1 1 1 0 1 1 1 1 1 1 1 1 1 0 1 1 1 1\n",
      " 1 1 1 1 0 1 1 1 1 1 1 1 1 1 1 0 1 1 1 1 1 1 1 1 1 1 1 1 1 1 1 1 1 1 1 1 1\n",
      " 1 1 0 1 1 1 1 1 1 1 1 1 1 1 1 1 1 1 0 1 1 1 1 1 1 1 1 1 1 1 1 1 0 1 1 1 1\n",
      " 1 0 1 1 1 1 1 0 1 0 1 1 1 1 1 1 1 1 1 1 1 1 1 1 1 1 1 1 1 1 1 1 1 1 1 1 1\n",
      " 1 1 0 1 1 1 1 1 1 1 1 1 1 0 1 1 1 1 1 1 1 1 1 1 1 1 1 1 1 1 1 1 1 1 0 1 1\n",
      " 1 1 1 1 1 1 1 1 1 1 1 1 1 1 1 1 1 1 1 1 1 1 1 1 1 1 1 1 1 1 1 1 1 1 1 1 1\n",
      " 1 1 1 1 1 1 0 1 1 1 1 1 1 1 1 1 1 0 1 1 1 0 1 1 1 1 1 1 1 1 1 1 1 1 0 1 1\n",
      " 1 1 1 1 1 1 1 1 1 1 1 1 1 1 0 0 1 1 1 1 1 1 1 1 0 1 1 1 1 1 1 1 1 1 1 1 1\n",
      " 1 1 1 1 1 1 1 1 1 1 1 1 1 1 1 1 1 1 1 1 0 0 1 1 1 1 1 1 1 1 1 1 1 1 1 1 1\n",
      " 1 1 1 1 1 1 1 1 1 0 0 1 1 0 1 1 1 1 1 1 1 1 1 1 1 1 1 1 1 1 1 1 0 1]\n",
      "367\n"
     ]
    }
   ],
   "source": [
    "GAMMA = 10\n",
    "C = 1\n",
    "\n",
    "clf = SVC(gamma=GAMMA, C=C, class_weight = 'balanced')\n",
    "clf.fit(Train.values, Label.values)\n",
    "Out = clf.predict(Test.values)\n",
    "print(Out)\n",
    "print(len(Out))"
   ]
  },
  {
   "cell_type": "code",
   "execution_count": 19,
   "metadata": {},
   "outputs": [],
   "source": [
    "Submit = pd.DataFrame({'Loan_ID': Test.index, 'Loan_Status': Out})\n",
    "Submit['Loan_Status'] = Submit['Loan_Status'].apply(binary2str)#,axis = 1)\n",
    "Submit.head()\n",
    "Submit.to_csv('.\\\\data\\\\Submit_v1_SVM_C_'+str(C) + \"_Gamma_\" + str(GAMMA) +'_b8PCA.csv', index=False)"
   ]
  },
  {
   "cell_type": "markdown",
   "metadata": {},
   "source": [
    "# Dicision tree"
   ]
  },
  {
   "cell_type": "code",
   "execution_count": 85,
   "metadata": {},
   "outputs": [
    {
     "name": "stdout",
     "output_type": "stream",
     "text": [
      "[1 1 1 1 0 0 1 0 1 1 0 1 1 0 0 1 0 1 1 1 1 1 1 1 1 1 1 1 1 1 1 0 1 1 1 0 1\n",
      " 1 1 1 1 1 1 0 1 1 1 1 1 1 1 1 1 1 1 0 1 1 0 1 1 1 0 0 1 1 0 0 1 0 1 0 1 0\n",
      " 0 0 1 1 1 0 0 1 0 1 0 1 0 1 1 1 1 1 1 0 0 1 1 1 1 1 1 0 1 1 1 1 0 1 1 1 1\n",
      " 1 1 1 1 1 0 0 0 0 0 1 1 0 0 0 0 1 0 1 1 0 1 1 0 1 1 0 1 1 0 1 0 1 1 1 1 0\n",
      " 1 1 0 1 1 0 1 0 1 0 0 0 0 0 1 1 1 0 0 1 0 1 1 1 0 0 0 1 1 1 1 1 1 1 1 1 1\n",
      " 0 1 1 1 1 1 1 0 0 1 1 0 1 0 1 1 0 1 1 1 1 0 1 1 0 0 0 1 1 1 1 0 0 1 1 1 0\n",
      " 0 1 0 1 1 1 1 0 1 1 1 1 1 0 0 1 1 1 1 0 1 0 1 0 1 0 1 1 0 1 0 1 1 0 1 1 1\n",
      " 0 1 1 1 1 0 1 0 1 0 1 1 0 1 0 0 1 1 1 0 1 1 1 1 1 1 1 1 0 1 1 1 1 0 0 1 1\n",
      " 1 0 1 1 1 0 1 0 1 0 1 1 1 1 1 0 1 1 0 0 1 0 1 1 1 0 0 1 1 0 1 1 1 1 1 1 1\n",
      " 1 1 1 1 1 1 1 1 0 0 0 0 1 0 0 1 0 1 0 1 1 1 1 1 1 0 1 1 1 1 1 1 0 1]\n",
      "367\n"
     ]
    }
   ],
   "source": [
    "MAX_DEPTH = 16\n",
    "clf = DecisionTreeClassifier(max_depth = MAX_DEPTH , class_weight = 'balanced' )\n",
    "clf = clf.fit(Train.values, Label.values)\n",
    "Out = clf.predict(Test.values)\n",
    "print(Out)\n",
    "print(len(Out))"
   ]
  },
  {
   "cell_type": "code",
   "execution_count": null,
   "metadata": {},
   "outputs": [],
   "source": [
    "Submit = pd.DataFrame({'Loan_ID': Test.index, 'Loan_Status': Out})\n",
    "Submit['Loan_Status'] = Submit['Loan_Status'].apply(binary2str)#,axis = 1)\n",
    "Submit.head()\n",
    "Submit.to_csv('.\\\\data\\\\Submit_v1_Dtree_max_depth_'+str(MAX_DEPTH)+'_b.csv', index=False)"
   ]
  },
  {
   "cell_type": "markdown",
   "metadata": {},
   "source": [
    "# Random forest"
   ]
  },
  {
   "cell_type": "code",
   "execution_count": 89,
   "metadata": {},
   "outputs": [
    {
     "name": "stdout",
     "output_type": "stream",
     "text": [
      "[1 1 1 1 1 1 1 0 1 1 1 1 1 0 1 1 1 1 1 1 1 1 1 1 1 0 1 1 1 1 1 1 1 1 1 0 1\n",
      " 1 1 1 1 1 1 1 1 1 1 1 1 1 1 1 1 1 1 0 1 1 0 1 1 1 1 0 1 1 0 0 1 0 1 1 1 1\n",
      " 1 1 1 1 1 1 0 1 0 1 0 1 1 1 1 1 1 1 1 1 0 1 1 1 1 1 1 0 1 1 1 1 0 1 1 1 1\n",
      " 1 1 1 1 1 1 0 0 0 1 1 1 0 0 1 0 1 1 1 1 1 1 1 1 1 1 1 1 1 0 1 0 1 1 1 1 0\n",
      " 1 1 1 1 1 0 1 1 1 1 1 1 1 0 1 1 1 0 0 1 0 1 1 1 1 0 0 1 1 1 1 1 1 1 1 1 1\n",
      " 1 1 1 1 1 1 1 0 0 1 1 0 1 0 1 1 1 1 1 1 1 1 1 1 1 1 0 1 1 1 1 1 1 1 1 1 1\n",
      " 1 1 0 1 1 1 1 0 1 1 1 1 1 0 0 1 1 1 1 0 1 0 1 0 1 1 1 1 0 1 1 1 1 0 1 1 1\n",
      " 0 1 1 1 1 1 1 0 1 0 1 1 1 1 0 0 1 1 1 0 1 1 1 1 1 1 1 1 1 1 1 1 1 1 0 1 1\n",
      " 1 1 1 1 1 0 1 0 1 1 1 1 1 1 1 0 1 1 1 1 1 0 1 1 1 1 1 1 1 0 1 1 1 1 1 1 1\n",
      " 1 1 1 1 1 1 0 1 1 1 1 1 1 0 1 1 1 1 1 1 1 0 1 1 1 1 1 1 1 1 1 1 1 1]\n",
      "367\n"
     ]
    }
   ],
   "source": [
    "N_estimator = 100\n",
    "MAX_DEPTH = 2\n",
    "Random_state = 0\n",
    "clf = RandomForestClassifier(n_estimators=N_estimator, max_depth=MAX_DEPTH,random_state=Random_state, class_weight = 'balanced')\n",
    "clf.fit(Train.values, Label.values)\n",
    "Out = clf.predict(Test.values)\n",
    "print(Out)\n",
    "print(len(Out))"
   ]
  },
  {
   "cell_type": "markdown",
   "metadata": {},
   "source": [
    "# MLP"
   ]
  },
  {
   "cell_type": "code",
   "execution_count": 32,
   "metadata": {},
   "outputs": [
    {
     "name": "stdout",
     "output_type": "stream",
     "text": [
      "[1 1 1 1 1 1 1 0 1 1 1 1 1 0 1 1 1 1 1 1 1 1 1 1 1 0 1 1 1 1 1 1 1 1 1 0 1\n",
      " 1 1 1 1 1 1 1 1 1 1 1 1 1 1 1 1 1 1 0 1 1 0 1 1 1 1 0 1 1 0 0 1 0 1 1 1 1\n",
      " 1 1 1 1 1 1 0 1 0 1 0 1 1 1 1 1 1 1 1 1 0 1 1 1 1 1 1 0 1 1 1 1 0 1 1 1 1\n",
      " 1 1 1 1 1 1 0 0 0 1 1 1 0 0 1 0 1 1 1 1 1 1 1 1 1 1 1 1 1 0 1 0 1 1 1 1 0\n",
      " 1 1 1 1 1 0 1 1 1 1 1 1 1 0 1 1 1 0 0 1 0 1 1 1 1 0 0 1 1 1 1 1 1 1 1 1 1\n",
      " 1 1 1 1 1 1 1 0 0 1 1 0 1 0 1 1 1 1 1 1 1 1 1 1 0 1 0 1 1 1 1 1 1 1 1 1 1\n",
      " 1 1 0 1 1 1 1 0 1 1 1 1 1 0 0 1 1 0 1 0 1 0 1 0 1 1 1 1 0 1 1 1 1 0 1 1 1\n",
      " 0 1 1 1 1 1 1 0 0 0 1 1 1 1 0 0 1 1 1 0 1 1 1 1 1 1 1 1 1 1 1 1 1 1 0 1 1\n",
      " 1 1 1 1 1 0 1 1 1 1 1 1 1 1 1 0 1 1 1 1 1 0 1 1 1 1 1 1 1 0 1 1 1 1 1 1 1\n",
      " 1 1 1 1 1 1 0 1 1 1 1 1 1 0 1 1 1 1 0 1 1 0 1 1 1 1 1 1 1 1 1 1 1 1]\n",
      "367\n"
     ]
    }
   ],
   "source": [
    "HLS = 5\n",
    "Hidden = -1\n",
    "Alpha = 1e-4\n",
    "BS = 256\n",
    "clf = MLPClassifier(alpha = Alpha, hidden_layer_sizes=(HLS,), random_state=1, learning_rate = 'invscaling', max_iter = 1000, batch_size = BS)\n",
    "clf.fit(Train.values, Label.values)\n",
    "Out = clf.predict(Test.values)\n",
    "print(Out)\n",
    "print(len(Out))"
   ]
  },
  {
   "cell_type": "code",
   "execution_count": 33,
   "metadata": {},
   "outputs": [],
   "source": [
    "Submit = pd.DataFrame({'Loan_ID': Test.index, 'Loan_Status': Out})\n",
    "Submit['Loan_Status'] = Submit['Loan_Status'].apply(binary2str)#,axis = 1)\n",
    "Submit.head()\n",
    "Submit.to_csv('.\\\\data\\\\Submit_v1_MLP_hidden_layer_sizes_'+str(HLS)+','+str(Hidden) +'_L2_'+str(Alpha) +\"_BS_\"+ str(BS) +'_8pca.csv', index=False)"
   ]
  },
  {
   "cell_type": "code",
   "execution_count": null,
   "metadata": {},
   "outputs": [],
   "source": []
  }
 ],
 "metadata": {
  "kernelspec": {
   "display_name": "tf-gpu",
   "language": "python",
   "name": "tf-gpu"
  },
  "language_info": {
   "codemirror_mode": {
    "name": "ipython",
    "version": 3
   },
   "file_extension": ".py",
   "mimetype": "text/x-python",
   "name": "python",
   "nbconvert_exporter": "python",
   "pygments_lexer": "ipython3",
   "version": "3.6.9"
  }
 },
 "nbformat": 4,
 "nbformat_minor": 2
}
